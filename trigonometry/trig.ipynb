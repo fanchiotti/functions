{
 "cells": [
  {
   "cell_type": "code",
   "execution_count": null,
   "metadata": {},
   "outputs": [],
   "source": [
    "import matplotlib.pyplot as plt\n",
    "import math\n",
    "import itertools"
   ]
  },
  {
   "cell_type": "code",
   "execution_count": null,
   "metadata": {},
   "outputs": [],
   "source": [
    "y_1=[]\n",
    "def trig(x):\n",
    "    for x in itertools.count(x):\n",
    "        y = math.sin(x)\n",
    "        y_1.append(y)\n",
    "    plt.plot(y_1)\n",
    "    plt.title('Seno')\n",
    "    plt.xlabel('Valor de x')\n",
    "    plt.ylabel('Valor de y')\n",
    "    plt.show()\n",
    "    \n",
    "trig(2)"
   ]
  }
 ],
 "metadata": {
  "kernelspec": {
   "display_name": "Python 3",
   "language": "python",
   "name": "python3"
  },
  "language_info": {
   "codemirror_mode": {
    "name": "ipython",
    "version": 3
   },
   "file_extension": ".py",
   "mimetype": "text/x-python",
   "name": "python",
   "nbconvert_exporter": "python",
   "pygments_lexer": "ipython3",
   "version": "3.6.5"
  }
 },
 "nbformat": 4,
 "nbformat_minor": 2
}
